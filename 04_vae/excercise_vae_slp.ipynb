{
 "cells": [
  {
   "cell_type": "markdown",
   "metadata": {},
   "source": [
    "# Excercise on Autoencoder and Variational Autoencoder\n",
    "\n",
    "Aim of this excercise is to implement an Autoencoder (AE) and Variational Autoencoder (VAE) similar to the tutorial.\n",
    "\n",
    "For this excercise we want to focus on the Sea level pressure (SLP) in the North Atlantic which highly affects the climate over Europe. \n",
    "\n",
    "You will adapt the AE architecture of the tutorial to use Convolutional Neural Networks (CNN) and compare their performance. Furthermore, you will compare the latent space of the AE, VAE and PCA. Ideally you will identify the so called Northern Atlantic Oscillation (NAO), but more later ...."
   ]
  },
  {
   "cell_type": "code",
   "execution_count": null,
   "metadata": {},
   "outputs": [],
   "source": []
  }
 ],
 "metadata": {
  "language_info": {
   "name": "python"
  },
  "orig_nbformat": 4
 },
 "nbformat": 4,
 "nbformat_minor": 2
}

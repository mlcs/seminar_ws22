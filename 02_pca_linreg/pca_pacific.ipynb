{
 "cells": [
  {
   "cell_type": "code",
   "execution_count": 59,
   "metadata": {},
   "outputs": [],
   "source": [
    "import xarray as xr\n",
    "import pandas as pd\n",
    "import numpy as np\n",
    "import numpy.ma as ma\n",
    "import matplotlib.pyplot as pl\n",
    "import cartopy.crs as ccrs\n",
    "from cartopy import feature as cfeature\n",
    "\n",
    "import matplotlib.ticker as mticker\n",
    "import matplotlib.dates as mdates"
   ]
  },
  {
   "cell_type": "code",
   "execution_count": 60,
   "metadata": {},
   "outputs": [],
   "source": [
    "def plot_on_map(lon, lat, arr, cmap, LON0, vmin=None, vmax=None, label=\"SST\"):\n",
    "    \"\"\"\n",
    "    Plots given array using pcolormesh on a map using Plate Carree projection.\n",
    "    \"\"\"\n",
    "    lats, lons = np.meshgrid(lat, lon)\n",
    "\n",
    "    # set up figure\n",
    "    LON0 = 180.\n",
    "    TIKLABFS = 10\n",
    "    AXLABFS = 12\n",
    "    map_proj = ccrs.PlateCarree(central_longitude=LON0)\n",
    "    fig = pl.figure(figsize=[8, 6])\n",
    "    ax = fig.add_axes([0.10, 0.10, 0.90, 0.80], projection=map_proj)\n",
    "\n",
    "    # plot array using pcolormesh\n",
    "    im = ax.pcolormesh(lons, lats, arr, cmap=cmap,\n",
    "                       vmin=vmin, vmax=vmax,\n",
    "                       rasterized=True, alpha=0.95,\n",
    "                       transform=ccrs.PlateCarree()\n",
    "                       )\n",
    "    cb = pl.colorbar(im, shrink=0.90)\n",
    "    cb.set_label(\"%s (deg C)\" % label, fontsize=AXLABFS)\n",
    "\n",
    "    # add land colors and coastlines\n",
    "    land_50m = cfeature.NaturalEarthFeature('physical', 'land', '50m',\n",
    "                                        edgecolor='face',\n",
    "                                        facecolor=\"lightgray\",\n",
    "                                        alpha=0.65, zorder=-1)\n",
    "    ax.add_feature(land_50m)\n",
    "    ax.coastlines(linewidth=0.50, color=\"k\", alpha=0.50)\n",
    "\n",
    "    # set limits of the plot and grid lines\n",
    "    ax.set_ylim(-66, 66)\n",
    "    ax.set_xlim(-60., 120)\n",
    "    gl = ax.gridlines(draw_labels=True, dms=True,\n",
    "                      x_inline=False, y_inline=False,\n",
    "                      linestyle=\"-\", linewidth=0.50,\n",
    "                      color=\"0.5\",alpha=0.15)\n",
    "\n",
    "    # add axis ticks and set tick label sizes\n",
    "    gl.xlocator = mticker.FixedLocator(np.arange(-180, 181, 20))\n",
    "    gl.ylocator = mticker.FixedLocator(np.arange(-65, 66, 15))\n",
    "    gl.xlabel_style = {\"fontsize\": TIKLABFS}\n",
    "    gl.ylabel_style = {\"fontsize\": TIKLABFS}\n",
    "\n",
    "    return fig"
   ]
  }
 ],
 "metadata": {
  "kernelspec": {
   "display_name": ".venv",
   "language": "python",
   "name": ".venv"
  },
  "language_info": {
   "codemirror_mode": {
    "name": "ipython",
    "version": 3
   },
   "file_extension": ".py",
   "mimetype": "text/x-python",
   "name": "python",
   "nbconvert_exporter": "python",
   "pygments_lexer": "ipython3",
   "version": "3.8.10"
  }
 },
 "nbformat": 4,
 "nbformat_minor": 4
}
